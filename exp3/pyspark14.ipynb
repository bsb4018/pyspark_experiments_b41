{
  "nbformat": 4,
  "nbformat_minor": 0,
  "metadata": {
    "colab": {
      "provenance": []
    },
    "kernelspec": {
      "name": "python3",
      "display_name": "Python 3"
    },
    "language_info": {
      "name": "python"
    }
  },
  "cells": [
    {
      "cell_type": "code",
      "execution_count": 1,
      "metadata": {
        "colab": {
          "base_uri": "https://localhost:8080/"
        },
        "id": "zK5h99wqL-sB",
        "outputId": "b52bc8ed-5a16-4e6c-e9fc-db309fbe7470"
      },
      "outputs": [
        {
          "output_type": "stream",
          "name": "stdout",
          "text": [
            "Looking in indexes: https://pypi.org/simple, https://us-python.pkg.dev/colab-wheels/public/simple/\n",
            "Collecting pyspark\n",
            "  Downloading pyspark-3.3.2.tar.gz (281.4 MB)\n",
            "\u001b[2K     \u001b[90m━━━━━━━━━━━━━━━━━━━━━━━━━━━━━━━━━━━━━━━\u001b[0m \u001b[32m281.4/281.4 MB\u001b[0m \u001b[31m4.7 MB/s\u001b[0m eta \u001b[36m0:00:00\u001b[0m\n",
            "\u001b[?25h  Preparing metadata (setup.py) ... \u001b[?25l\u001b[?25hdone\n",
            "Collecting py4j==0.10.9.5\n",
            "  Downloading py4j-0.10.9.5-py2.py3-none-any.whl (199 kB)\n",
            "\u001b[2K     \u001b[90m━━━━━━━━━━━━━━━━━━━━━━━━━━━━━━━━━━━━━━\u001b[0m \u001b[32m199.7/199.7 KB\u001b[0m \u001b[31m13.5 MB/s\u001b[0m eta \u001b[36m0:00:00\u001b[0m\n",
            "\u001b[?25hBuilding wheels for collected packages: pyspark\n",
            "  Building wheel for pyspark (setup.py) ... \u001b[?25l\u001b[?25hdone\n",
            "  Created wheel for pyspark: filename=pyspark-3.3.2-py2.py3-none-any.whl size=281824025 sha256=44cd9875da37141bd364039521978d51a48568484dfde3048d2611a690f47f4b\n",
            "  Stored in directory: /root/.cache/pip/wheels/b1/59/a0/a1a0624b5e865fd389919c1a10f53aec9b12195d6747710baf\n",
            "Successfully built pyspark\n",
            "Installing collected packages: py4j, pyspark\n",
            "Successfully installed py4j-0.10.9.5 pyspark-3.3.2\n"
          ]
        }
      ],
      "source": [
        "!pip install pyspark"
      ]
    },
    {
      "cell_type": "code",
      "source": [
        "filepath_data = \"drive/MyDrive/adv_analytics/cov_type_data/covtype.data\"\n",
        "filepath_info = \"drive/MyDrive/adv_analytics/cov_type_data/covtype.info\""
      ],
      "metadata": {
        "id": "bjBCGKkoMEz6"
      },
      "execution_count": 5,
      "outputs": []
    },
    {
      "cell_type": "code",
      "source": [
        "import pyspark\n",
        "from pyspark.sql import SparkSession\n",
        "spark = SparkSession.builder.appName('Adv_Analytics').getOrCreate()"
      ],
      "metadata": {
        "id": "uhhZeAzxME2f"
      },
      "execution_count": 3,
      "outputs": []
    },
    {
      "cell_type": "code",
      "source": [
        "data_without_header = spark.read.option(\"inferSchema\", True).option(\"header\", False).csv(filepath_data)\n",
        "data_without_header.printSchema()"
      ],
      "metadata": {
        "colab": {
          "base_uri": "https://localhost:8080/"
        },
        "id": "BHwsvsSrME5G",
        "outputId": "ce823b33-91bb-49ca-fead-1a2640ac7e1a"
      },
      "execution_count": 7,
      "outputs": [
        {
          "output_type": "stream",
          "name": "stdout",
          "text": [
            "root\n",
            " |-- _c0: integer (nullable = true)\n",
            " |-- _c1: integer (nullable = true)\n",
            " |-- _c2: integer (nullable = true)\n",
            " |-- _c3: integer (nullable = true)\n",
            " |-- _c4: integer (nullable = true)\n",
            " |-- _c5: integer (nullable = true)\n",
            " |-- _c6: integer (nullable = true)\n",
            " |-- _c7: integer (nullable = true)\n",
            " |-- _c8: integer (nullable = true)\n",
            " |-- _c9: integer (nullable = true)\n",
            " |-- _c10: integer (nullable = true)\n",
            " |-- _c11: integer (nullable = true)\n",
            " |-- _c12: integer (nullable = true)\n",
            " |-- _c13: integer (nullable = true)\n",
            " |-- _c14: integer (nullable = true)\n",
            " |-- _c15: integer (nullable = true)\n",
            " |-- _c16: integer (nullable = true)\n",
            " |-- _c17: integer (nullable = true)\n",
            " |-- _c18: integer (nullable = true)\n",
            " |-- _c19: integer (nullable = true)\n",
            " |-- _c20: integer (nullable = true)\n",
            " |-- _c21: integer (nullable = true)\n",
            " |-- _c22: integer (nullable = true)\n",
            " |-- _c23: integer (nullable = true)\n",
            " |-- _c24: integer (nullable = true)\n",
            " |-- _c25: integer (nullable = true)\n",
            " |-- _c26: integer (nullable = true)\n",
            " |-- _c27: integer (nullable = true)\n",
            " |-- _c28: integer (nullable = true)\n",
            " |-- _c29: integer (nullable = true)\n",
            " |-- _c30: integer (nullable = true)\n",
            " |-- _c31: integer (nullable = true)\n",
            " |-- _c32: integer (nullable = true)\n",
            " |-- _c33: integer (nullable = true)\n",
            " |-- _c34: integer (nullable = true)\n",
            " |-- _c35: integer (nullable = true)\n",
            " |-- _c36: integer (nullable = true)\n",
            " |-- _c37: integer (nullable = true)\n",
            " |-- _c38: integer (nullable = true)\n",
            " |-- _c39: integer (nullable = true)\n",
            " |-- _c40: integer (nullable = true)\n",
            " |-- _c41: integer (nullable = true)\n",
            " |-- _c42: integer (nullable = true)\n",
            " |-- _c43: integer (nullable = true)\n",
            " |-- _c44: integer (nullable = true)\n",
            " |-- _c45: integer (nullable = true)\n",
            " |-- _c46: integer (nullable = true)\n",
            " |-- _c47: integer (nullable = true)\n",
            " |-- _c48: integer (nullable = true)\n",
            " |-- _c49: integer (nullable = true)\n",
            " |-- _c50: integer (nullable = true)\n",
            " |-- _c51: integer (nullable = true)\n",
            " |-- _c52: integer (nullable = true)\n",
            " |-- _c53: integer (nullable = true)\n",
            " |-- _c54: integer (nullable = true)\n",
            "\n"
          ]
        }
      ]
    },
    {
      "cell_type": "code",
      "source": [
        "from pyspark.sql.types import DoubleType\n",
        "from pyspark.sql.functions import col"
      ],
      "metadata": {
        "id": "tmtdsE0cME9n"
      },
      "execution_count": 8,
      "outputs": []
    },
    {
      "cell_type": "code",
      "source": [
        "colnames = [\"Elevation\", \"Aspect\", \"Slope\", \\\n",
        "\"Horizontal_Distance_To_Hydrology\", \\\n",
        "\"Vertical_Distance_To_Hydrology\", \"Horizontal_Distance_To_Roadways\", \\\n",
        "\"Hillshade_9am\", \"Hillshade_Noon\", \"Hillshade_3pm\", \\\n",
        "\"Horizontal_Distance_To_Fire_Points\"] + \\\n",
        "[f\"Wilderness_Area_{i}\" for i in range(4)] + \\\n",
        "[f\"Soil_Type_{i}\" for i in range(40)] + \\\n",
        "[\"Cover_Type\"]"
      ],
      "metadata": {
        "id": "jOegRdcIMFAa"
      },
      "execution_count": 9,
      "outputs": []
    },
    {
      "cell_type": "code",
      "source": [
        "data = data_without_header.toDF(*colnames).\\\n",
        "withColumn(\"Cover_Type\",\n",
        "col(\"Cover_Type\").cast(DoubleType()))"
      ],
      "metadata": {
        "id": "F2FCtagTMFDN"
      },
      "execution_count": 10,
      "outputs": []
    },
    {
      "cell_type": "code",
      "source": [
        "data.head()"
      ],
      "metadata": {
        "colab": {
          "base_uri": "https://localhost:8080/"
        },
        "id": "TPhPDmI7MFFz",
        "outputId": "bd2d2d69-e0c1-438a-978c-b5a91b5d8ad5"
      },
      "execution_count": 11,
      "outputs": [
        {
          "output_type": "execute_result",
          "data": {
            "text/plain": [
              "Row(Elevation=2596, Aspect=51, Slope=3, Horizontal_Distance_To_Hydrology=258, Vertical_Distance_To_Hydrology=0, Horizontal_Distance_To_Roadways=510, Hillshade_9am=221, Hillshade_Noon=232, Hillshade_3pm=148, Horizontal_Distance_To_Fire_Points=6279, Wilderness_Area_0=1, Wilderness_Area_1=0, Wilderness_Area_2=0, Wilderness_Area_3=0, Soil_Type_0=0, Soil_Type_1=0, Soil_Type_2=0, Soil_Type_3=0, Soil_Type_4=0, Soil_Type_5=0, Soil_Type_6=0, Soil_Type_7=0, Soil_Type_8=0, Soil_Type_9=0, Soil_Type_10=0, Soil_Type_11=0, Soil_Type_12=0, Soil_Type_13=0, Soil_Type_14=0, Soil_Type_15=0, Soil_Type_16=0, Soil_Type_17=0, Soil_Type_18=0, Soil_Type_19=0, Soil_Type_20=0, Soil_Type_21=0, Soil_Type_22=0, Soil_Type_23=0, Soil_Type_24=0, Soil_Type_25=0, Soil_Type_26=0, Soil_Type_27=0, Soil_Type_28=1, Soil_Type_29=0, Soil_Type_30=0, Soil_Type_31=0, Soil_Type_32=0, Soil_Type_33=0, Soil_Type_34=0, Soil_Type_35=0, Soil_Type_36=0, Soil_Type_37=0, Soil_Type_38=0, Soil_Type_39=0, Cover_Type=5.0)"
            ]
          },
          "metadata": {},
          "execution_count": 11
        }
      ]
    },
    {
      "cell_type": "code",
      "source": [],
      "metadata": {
        "id": "_HxhhR1YMFIl"
      },
      "execution_count": null,
      "outputs": []
    },
    {
      "cell_type": "code",
      "source": [
        "(train_data, test_data) = data.randomSplit([0.9, 0.1])\n",
        "train_data.cache()\n",
        "test_data.cache()"
      ],
      "metadata": {
        "colab": {
          "base_uri": "https://localhost:8080/"
        },
        "id": "7ItwSehVMFLF",
        "outputId": "212d6a9c-cb4c-4ec9-c10a-36bff25f947c"
      },
      "execution_count": 12,
      "outputs": [
        {
          "output_type": "execute_result",
          "data": {
            "text/plain": [
              "DataFrame[Elevation: int, Aspect: int, Slope: int, Horizontal_Distance_To_Hydrology: int, Vertical_Distance_To_Hydrology: int, Horizontal_Distance_To_Roadways: int, Hillshade_9am: int, Hillshade_Noon: int, Hillshade_3pm: int, Horizontal_Distance_To_Fire_Points: int, Wilderness_Area_0: int, Wilderness_Area_1: int, Wilderness_Area_2: int, Wilderness_Area_3: int, Soil_Type_0: int, Soil_Type_1: int, Soil_Type_2: int, Soil_Type_3: int, Soil_Type_4: int, Soil_Type_5: int, Soil_Type_6: int, Soil_Type_7: int, Soil_Type_8: int, Soil_Type_9: int, Soil_Type_10: int, Soil_Type_11: int, Soil_Type_12: int, Soil_Type_13: int, Soil_Type_14: int, Soil_Type_15: int, Soil_Type_16: int, Soil_Type_17: int, Soil_Type_18: int, Soil_Type_19: int, Soil_Type_20: int, Soil_Type_21: int, Soil_Type_22: int, Soil_Type_23: int, Soil_Type_24: int, Soil_Type_25: int, Soil_Type_26: int, Soil_Type_27: int, Soil_Type_28: int, Soil_Type_29: int, Soil_Type_30: int, Soil_Type_31: int, Soil_Type_32: int, Soil_Type_33: int, Soil_Type_34: int, Soil_Type_35: int, Soil_Type_36: int, Soil_Type_37: int, Soil_Type_38: int, Soil_Type_39: int, Cover_Type: double]"
            ]
          },
          "metadata": {},
          "execution_count": 12
        }
      ]
    },
    {
      "cell_type": "code",
      "source": [
        "from pyspark.ml.feature import VectorAssembler\n",
        "input_cols = colnames[:-1]\n",
        "vector_assembler = VectorAssembler(inputCols=input_cols,outputCol=\"featureVector\")"
      ],
      "metadata": {
        "id": "K0taQzBTMFNx"
      },
      "execution_count": 13,
      "outputs": []
    },
    {
      "cell_type": "code",
      "source": [
        "assembled_train_data = vector_assembler.transform(train_data)\n",
        "assembled_train_data.select(\"featureVector\").show(truncate = False)"
      ],
      "metadata": {
        "colab": {
          "base_uri": "https://localhost:8080/"
        },
        "id": "C1TJdJqgMFQW",
        "outputId": "3325f9e0-e5eb-4631-8825-778066e6cb56"
      },
      "execution_count": 14,
      "outputs": [
        {
          "output_type": "stream",
          "name": "stdout",
          "text": [
            "+----------------------------------------------------------------------------------------------------+\n",
            "|featureVector                                                                                       |\n",
            "+----------------------------------------------------------------------------------------------------+\n",
            "|(54,[0,1,2,3,4,5,6,7,8,9,13,15],[1859.0,18.0,12.0,67.0,11.0,90.0,211.0,215.0,139.0,792.0,1.0,1.0])  |\n",
            "|(54,[0,1,2,3,4,5,6,7,8,9,13,15],[1860.0,18.0,13.0,95.0,15.0,90.0,210.0,213.0,138.0,780.0,1.0,1.0])  |\n",
            "|(54,[0,1,2,3,4,5,6,7,8,9,13,15],[1861.0,35.0,14.0,60.0,11.0,85.0,218.0,209.0,124.0,832.0,1.0,1.0])  |\n",
            "|(54,[0,1,2,3,4,5,6,7,8,9,13,15],[1863.0,37.0,17.0,120.0,18.0,90.0,217.0,202.0,115.0,769.0,1.0,1.0]) |\n",
            "|(54,[0,1,2,3,4,5,6,7,8,9,13,15],[1866.0,23.0,14.0,85.0,16.0,108.0,212.0,210.0,133.0,819.0,1.0,1.0]) |\n",
            "|(54,[0,1,2,3,4,5,6,7,8,9,13,15],[1867.0,20.0,15.0,108.0,19.0,120.0,208.0,206.0,132.0,808.0,1.0,1.0])|\n",
            "|(54,[0,1,2,3,4,5,6,7,8,9,13,15],[1868.0,27.0,16.0,67.0,17.0,95.0,212.0,204.0,125.0,859.0,1.0,1.0])  |\n",
            "|(54,[0,1,2,3,4,5,6,7,8,9,13,18],[1871.0,22.0,22.0,60.0,12.0,85.0,200.0,187.0,115.0,792.0,1.0,1.0])  |\n",
            "|(54,[0,1,2,3,4,5,6,7,8,9,13,15],[1871.0,36.0,19.0,134.0,26.0,120.0,215.0,194.0,107.0,797.0,1.0,1.0])|\n",
            "|(54,[0,1,2,3,4,5,6,7,8,9,13,15],[1871.0,37.0,19.0,120.0,29.0,90.0,216.0,195.0,107.0,759.0,1.0,1.0]) |\n",
            "|(54,[0,1,2,3,4,5,6,7,8,9,13,18],[1872.0,12.0,27.0,85.0,25.0,60.0,182.0,174.0,118.0,577.0,1.0,1.0])  |\n",
            "|(54,[0,1,2,3,4,5,6,7,8,9,13,15],[1872.0,27.0,16.0,95.0,22.0,124.0,212.0,205.0,126.0,847.0,1.0,1.0]) |\n",
            "|(54,[0,1,2,3,4,5,6,7,8,9,13,15],[1872.0,27.0,21.0,108.0,30.0,67.0,206.0,190.0,112.0,713.0,1.0,1.0]) |\n",
            "|(54,[0,1,2,3,4,5,6,7,8,9,13,14],[1872.0,35.0,21.0,120.0,18.0,85.0,213.0,189.0,104.0,797.0,1.0,1.0]) |\n",
            "|(54,[0,1,2,3,4,5,6,7,8,9,13,15],[1873.0,30.0,19.0,67.0,21.0,85.0,211.0,195.0,114.0,899.0,1.0,1.0])  |\n",
            "|(54,[0,1,2,5,6,7,8,9,13,18],[1874.0,18.0,14.0,90.0,208.0,209.0,135.0,793.0,1.0,1.0])                |\n",
            "|(54,[0,1,2,3,4,5,6,7,8,9,13,15],[1876.0,25.0,17.0,124.0,26.0,150.0,209.0,200.0,123.0,836.0,1.0,1.0])|\n",
            "|(54,[0,1,2,3,4,5,6,7,8,9,13,15],[1876.0,29.0,19.0,124.0,34.0,90.0,210.0,195.0,115.0,750.0,1.0,1.0]) |\n",
            "|(54,[0,1,2,3,4,5,6,7,8,9,13,15],[1877.0,19.0,18.0,85.0,25.0,108.0,204.0,199.0,127.0,886.0,1.0,1.0]) |\n",
            "|(54,[0,1,2,3,4,5,6,7,8,9,13,18],[1877.0,27.0,24.0,90.0,18.0,95.0,201.0,179.0,104.0,780.0,1.0,1.0])  |\n",
            "+----------------------------------------------------------------------------------------------------+\n",
            "only showing top 20 rows\n",
            "\n"
          ]
        }
      ]
    },
    {
      "cell_type": "code",
      "source": [
        "from pyspark.ml.classification import DecisionTreeClassifier\n",
        "classifier = DecisionTreeClassifier(seed = 1234, labelCol=\"Cover_Type\",featuresCol=\"featureVector\",predictionCol=\"prediction\")\n"
      ],
      "metadata": {
        "id": "n27HmNXhMFS7"
      },
      "execution_count": 15,
      "outputs": []
    },
    {
      "cell_type": "code",
      "source": [
        "model = classifier.fit(assembled_train_data)"
      ],
      "metadata": {
        "id": "0EpgHHDVMFVd"
      },
      "execution_count": 16,
      "outputs": []
    },
    {
      "cell_type": "code",
      "source": [
        "print(model.toDebugString)"
      ],
      "metadata": {
        "colab": {
          "base_uri": "https://localhost:8080/"
        },
        "id": "ihxIU1y5MFYI",
        "outputId": "435093fd-f9b9-46e1-aeae-0b746d14ce4f"
      },
      "execution_count": 17,
      "outputs": [
        {
          "output_type": "stream",
          "name": "stdout",
          "text": [
            "DecisionTreeClassificationModel: uid=DecisionTreeClassifier_83f67a13c511, depth=5, numNodes=47, numClasses=8, numFeatures=54\n",
            "  If (feature 0 <= 3044.5)\n",
            "   If (feature 0 <= 2559.5)\n",
            "    If (feature 10 <= 0.5)\n",
            "     If (feature 0 <= 2446.5)\n",
            "      If (feature 3 <= 15.0)\n",
            "       Predict: 4.0\n",
            "      Else (feature 3 > 15.0)\n",
            "       Predict: 3.0\n",
            "     Else (feature 0 > 2446.5)\n",
            "      If (feature 17 <= 0.5)\n",
            "       Predict: 2.0\n",
            "      Else (feature 17 > 0.5)\n",
            "       Predict: 3.0\n",
            "    Else (feature 10 > 0.5)\n",
            "     If (feature 9 <= 5359.5)\n",
            "      Predict: 2.0\n",
            "     Else (feature 9 > 5359.5)\n",
            "      If (feature 5 <= 567.5)\n",
            "       Predict: 2.0\n",
            "      Else (feature 5 > 567.5)\n",
            "       Predict: 5.0\n",
            "   Else (feature 0 > 2559.5)\n",
            "    If (feature 0 <= 2954.5)\n",
            "     If (feature 15 <= 0.5)\n",
            "      If (feature 17 <= 0.5)\n",
            "       Predict: 2.0\n",
            "      Else (feature 17 > 0.5)\n",
            "       Predict: 3.0\n",
            "     Else (feature 15 > 0.5)\n",
            "      Predict: 3.0\n",
            "    Else (feature 0 > 2954.5)\n",
            "     If (feature 3 <= 191.0)\n",
            "      If (feature 36 <= 0.5)\n",
            "       Predict: 2.0\n",
            "      Else (feature 36 > 0.5)\n",
            "       Predict: 1.0\n",
            "     Else (feature 3 > 191.0)\n",
            "      Predict: 2.0\n",
            "  Else (feature 0 > 3044.5)\n",
            "   If (feature 0 <= 3307.5)\n",
            "    If (feature 7 <= 238.5)\n",
            "     Predict: 1.0\n",
            "    Else (feature 7 > 238.5)\n",
            "     If (feature 3 <= 330.5)\n",
            "      Predict: 1.0\n",
            "     Else (feature 3 > 330.5)\n",
            "      If (feature 0 <= 3220.5)\n",
            "       Predict: 2.0\n",
            "      Else (feature 0 > 3220.5)\n",
            "       Predict: 1.0\n",
            "   Else (feature 0 > 3307.5)\n",
            "    If (feature 12 <= 0.5)\n",
            "     If (feature 3 <= 290.0)\n",
            "      If (feature 6 <= 206.5)\n",
            "       Predict: 1.0\n",
            "      Else (feature 6 > 206.5)\n",
            "       Predict: 7.0\n",
            "     Else (feature 3 > 290.0)\n",
            "      Predict: 1.0\n",
            "    Else (feature 12 > 0.5)\n",
            "     If (feature 45 <= 0.5)\n",
            "      If (feature 0 <= 3360.5)\n",
            "       Predict: 1.0\n",
            "      Else (feature 0 > 3360.5)\n",
            "       Predict: 7.0\n",
            "     Else (feature 45 > 0.5)\n",
            "      If (feature 5 <= 998.0)\n",
            "       Predict: 7.0\n",
            "      Else (feature 5 > 998.0)\n",
            "       Predict: 1.0\n",
            "\n"
          ]
        }
      ]
    },
    {
      "cell_type": "code",
      "source": [
        "import pandas as pd\n",
        "pd.DataFrame(model.featureImportances.toArray(),\n",
        "index=input_cols, columns=['importance']).\\\n",
        "sort_values(by=\"importance\", ascending=False)"
      ],
      "metadata": {
        "colab": {
          "base_uri": "https://localhost:8080/",
          "height": 1000
        },
        "id": "Uu__AOBjMFaz",
        "outputId": "26404256-4741-4960-e2ab-acb0e0032b89"
      },
      "execution_count": 18,
      "outputs": [
        {
          "output_type": "execute_result",
          "data": {
            "text/plain": [
              "                                    importance\n",
              "Elevation                             0.805253\n",
              "Horizontal_Distance_To_Hydrology      0.043245\n",
              "Soil_Type_3                           0.031018\n",
              "Wilderness_Area_0                     0.030685\n",
              "Hillshade_Noon                        0.025440\n",
              "Soil_Type_1                           0.024492\n",
              "Soil_Type_31                          0.017206\n",
              "Wilderness_Area_2                     0.011324\n",
              "Soil_Type_22                          0.005832\n",
              "Hillshade_9am                         0.002596\n",
              "Horizontal_Distance_To_Roadways       0.002341\n",
              "Horizontal_Distance_To_Fire_Points    0.000568\n",
              "Soil_Type_37                          0.000000\n",
              "Soil_Type_27                          0.000000\n",
              "Soil_Type_20                          0.000000\n",
              "Soil_Type_21                          0.000000\n",
              "Soil_Type_36                          0.000000\n",
              "Soil_Type_23                          0.000000\n",
              "Soil_Type_24                          0.000000\n",
              "Soil_Type_25                          0.000000\n",
              "Soil_Type_26                          0.000000\n",
              "Soil_Type_29                          0.000000\n",
              "Soil_Type_28                          0.000000\n",
              "Soil_Type_35                          0.000000\n",
              "Soil_Type_30                          0.000000\n",
              "Soil_Type_38                          0.000000\n",
              "Soil_Type_32                          0.000000\n",
              "Soil_Type_18                          0.000000\n",
              "Soil_Type_33                          0.000000\n",
              "Soil_Type_34                          0.000000\n",
              "Soil_Type_19                          0.000000\n",
              "Soil_Type_13                          0.000000\n",
              "Soil_Type_17                          0.000000\n",
              "Soil_Type_16                          0.000000\n",
              "Slope                                 0.000000\n",
              "Vertical_Distance_To_Hydrology        0.000000\n",
              "Hillshade_3pm                         0.000000\n",
              "Wilderness_Area_1                     0.000000\n",
              "Wilderness_Area_3                     0.000000\n",
              "Soil_Type_0                           0.000000\n",
              "Soil_Type_2                           0.000000\n",
              "Soil_Type_4                           0.000000\n",
              "Soil_Type_5                           0.000000\n",
              "Soil_Type_6                           0.000000\n",
              "Soil_Type_7                           0.000000\n",
              "Soil_Type_8                           0.000000\n",
              "Soil_Type_9                           0.000000\n",
              "Soil_Type_10                          0.000000\n",
              "Soil_Type_11                          0.000000\n",
              "Soil_Type_12                          0.000000\n",
              "Aspect                                0.000000\n",
              "Soil_Type_14                          0.000000\n",
              "Soil_Type_15                          0.000000\n",
              "Soil_Type_39                          0.000000"
            ],
            "text/html": [
              "\n",
              "  <div id=\"df-d439390b-ac58-4d28-bd84-10ee9026f014\">\n",
              "    <div class=\"colab-df-container\">\n",
              "      <div>\n",
              "<style scoped>\n",
              "    .dataframe tbody tr th:only-of-type {\n",
              "        vertical-align: middle;\n",
              "    }\n",
              "\n",
              "    .dataframe tbody tr th {\n",
              "        vertical-align: top;\n",
              "    }\n",
              "\n",
              "    .dataframe thead th {\n",
              "        text-align: right;\n",
              "    }\n",
              "</style>\n",
              "<table border=\"1\" class=\"dataframe\">\n",
              "  <thead>\n",
              "    <tr style=\"text-align: right;\">\n",
              "      <th></th>\n",
              "      <th>importance</th>\n",
              "    </tr>\n",
              "  </thead>\n",
              "  <tbody>\n",
              "    <tr>\n",
              "      <th>Elevation</th>\n",
              "      <td>0.805253</td>\n",
              "    </tr>\n",
              "    <tr>\n",
              "      <th>Horizontal_Distance_To_Hydrology</th>\n",
              "      <td>0.043245</td>\n",
              "    </tr>\n",
              "    <tr>\n",
              "      <th>Soil_Type_3</th>\n",
              "      <td>0.031018</td>\n",
              "    </tr>\n",
              "    <tr>\n",
              "      <th>Wilderness_Area_0</th>\n",
              "      <td>0.030685</td>\n",
              "    </tr>\n",
              "    <tr>\n",
              "      <th>Hillshade_Noon</th>\n",
              "      <td>0.025440</td>\n",
              "    </tr>\n",
              "    <tr>\n",
              "      <th>Soil_Type_1</th>\n",
              "      <td>0.024492</td>\n",
              "    </tr>\n",
              "    <tr>\n",
              "      <th>Soil_Type_31</th>\n",
              "      <td>0.017206</td>\n",
              "    </tr>\n",
              "    <tr>\n",
              "      <th>Wilderness_Area_2</th>\n",
              "      <td>0.011324</td>\n",
              "    </tr>\n",
              "    <tr>\n",
              "      <th>Soil_Type_22</th>\n",
              "      <td>0.005832</td>\n",
              "    </tr>\n",
              "    <tr>\n",
              "      <th>Hillshade_9am</th>\n",
              "      <td>0.002596</td>\n",
              "    </tr>\n",
              "    <tr>\n",
              "      <th>Horizontal_Distance_To_Roadways</th>\n",
              "      <td>0.002341</td>\n",
              "    </tr>\n",
              "    <tr>\n",
              "      <th>Horizontal_Distance_To_Fire_Points</th>\n",
              "      <td>0.000568</td>\n",
              "    </tr>\n",
              "    <tr>\n",
              "      <th>Soil_Type_37</th>\n",
              "      <td>0.000000</td>\n",
              "    </tr>\n",
              "    <tr>\n",
              "      <th>Soil_Type_27</th>\n",
              "      <td>0.000000</td>\n",
              "    </tr>\n",
              "    <tr>\n",
              "      <th>Soil_Type_20</th>\n",
              "      <td>0.000000</td>\n",
              "    </tr>\n",
              "    <tr>\n",
              "      <th>Soil_Type_21</th>\n",
              "      <td>0.000000</td>\n",
              "    </tr>\n",
              "    <tr>\n",
              "      <th>Soil_Type_36</th>\n",
              "      <td>0.000000</td>\n",
              "    </tr>\n",
              "    <tr>\n",
              "      <th>Soil_Type_23</th>\n",
              "      <td>0.000000</td>\n",
              "    </tr>\n",
              "    <tr>\n",
              "      <th>Soil_Type_24</th>\n",
              "      <td>0.000000</td>\n",
              "    </tr>\n",
              "    <tr>\n",
              "      <th>Soil_Type_25</th>\n",
              "      <td>0.000000</td>\n",
              "    </tr>\n",
              "    <tr>\n",
              "      <th>Soil_Type_26</th>\n",
              "      <td>0.000000</td>\n",
              "    </tr>\n",
              "    <tr>\n",
              "      <th>Soil_Type_29</th>\n",
              "      <td>0.000000</td>\n",
              "    </tr>\n",
              "    <tr>\n",
              "      <th>Soil_Type_28</th>\n",
              "      <td>0.000000</td>\n",
              "    </tr>\n",
              "    <tr>\n",
              "      <th>Soil_Type_35</th>\n",
              "      <td>0.000000</td>\n",
              "    </tr>\n",
              "    <tr>\n",
              "      <th>Soil_Type_30</th>\n",
              "      <td>0.000000</td>\n",
              "    </tr>\n",
              "    <tr>\n",
              "      <th>Soil_Type_38</th>\n",
              "      <td>0.000000</td>\n",
              "    </tr>\n",
              "    <tr>\n",
              "      <th>Soil_Type_32</th>\n",
              "      <td>0.000000</td>\n",
              "    </tr>\n",
              "    <tr>\n",
              "      <th>Soil_Type_18</th>\n",
              "      <td>0.000000</td>\n",
              "    </tr>\n",
              "    <tr>\n",
              "      <th>Soil_Type_33</th>\n",
              "      <td>0.000000</td>\n",
              "    </tr>\n",
              "    <tr>\n",
              "      <th>Soil_Type_34</th>\n",
              "      <td>0.000000</td>\n",
              "    </tr>\n",
              "    <tr>\n",
              "      <th>Soil_Type_19</th>\n",
              "      <td>0.000000</td>\n",
              "    </tr>\n",
              "    <tr>\n",
              "      <th>Soil_Type_13</th>\n",
              "      <td>0.000000</td>\n",
              "    </tr>\n",
              "    <tr>\n",
              "      <th>Soil_Type_17</th>\n",
              "      <td>0.000000</td>\n",
              "    </tr>\n",
              "    <tr>\n",
              "      <th>Soil_Type_16</th>\n",
              "      <td>0.000000</td>\n",
              "    </tr>\n",
              "    <tr>\n",
              "      <th>Slope</th>\n",
              "      <td>0.000000</td>\n",
              "    </tr>\n",
              "    <tr>\n",
              "      <th>Vertical_Distance_To_Hydrology</th>\n",
              "      <td>0.000000</td>\n",
              "    </tr>\n",
              "    <tr>\n",
              "      <th>Hillshade_3pm</th>\n",
              "      <td>0.000000</td>\n",
              "    </tr>\n",
              "    <tr>\n",
              "      <th>Wilderness_Area_1</th>\n",
              "      <td>0.000000</td>\n",
              "    </tr>\n",
              "    <tr>\n",
              "      <th>Wilderness_Area_3</th>\n",
              "      <td>0.000000</td>\n",
              "    </tr>\n",
              "    <tr>\n",
              "      <th>Soil_Type_0</th>\n",
              "      <td>0.000000</td>\n",
              "    </tr>\n",
              "    <tr>\n",
              "      <th>Soil_Type_2</th>\n",
              "      <td>0.000000</td>\n",
              "    </tr>\n",
              "    <tr>\n",
              "      <th>Soil_Type_4</th>\n",
              "      <td>0.000000</td>\n",
              "    </tr>\n",
              "    <tr>\n",
              "      <th>Soil_Type_5</th>\n",
              "      <td>0.000000</td>\n",
              "    </tr>\n",
              "    <tr>\n",
              "      <th>Soil_Type_6</th>\n",
              "      <td>0.000000</td>\n",
              "    </tr>\n",
              "    <tr>\n",
              "      <th>Soil_Type_7</th>\n",
              "      <td>0.000000</td>\n",
              "    </tr>\n",
              "    <tr>\n",
              "      <th>Soil_Type_8</th>\n",
              "      <td>0.000000</td>\n",
              "    </tr>\n",
              "    <tr>\n",
              "      <th>Soil_Type_9</th>\n",
              "      <td>0.000000</td>\n",
              "    </tr>\n",
              "    <tr>\n",
              "      <th>Soil_Type_10</th>\n",
              "      <td>0.000000</td>\n",
              "    </tr>\n",
              "    <tr>\n",
              "      <th>Soil_Type_11</th>\n",
              "      <td>0.000000</td>\n",
              "    </tr>\n",
              "    <tr>\n",
              "      <th>Soil_Type_12</th>\n",
              "      <td>0.000000</td>\n",
              "    </tr>\n",
              "    <tr>\n",
              "      <th>Aspect</th>\n",
              "      <td>0.000000</td>\n",
              "    </tr>\n",
              "    <tr>\n",
              "      <th>Soil_Type_14</th>\n",
              "      <td>0.000000</td>\n",
              "    </tr>\n",
              "    <tr>\n",
              "      <th>Soil_Type_15</th>\n",
              "      <td>0.000000</td>\n",
              "    </tr>\n",
              "    <tr>\n",
              "      <th>Soil_Type_39</th>\n",
              "      <td>0.000000</td>\n",
              "    </tr>\n",
              "  </tbody>\n",
              "</table>\n",
              "</div>\n",
              "      <button class=\"colab-df-convert\" onclick=\"convertToInteractive('df-d439390b-ac58-4d28-bd84-10ee9026f014')\"\n",
              "              title=\"Convert this dataframe to an interactive table.\"\n",
              "              style=\"display:none;\">\n",
              "        \n",
              "  <svg xmlns=\"http://www.w3.org/2000/svg\" height=\"24px\"viewBox=\"0 0 24 24\"\n",
              "       width=\"24px\">\n",
              "    <path d=\"M0 0h24v24H0V0z\" fill=\"none\"/>\n",
              "    <path d=\"M18.56 5.44l.94 2.06.94-2.06 2.06-.94-2.06-.94-.94-2.06-.94 2.06-2.06.94zm-11 1L8.5 8.5l.94-2.06 2.06-.94-2.06-.94L8.5 2.5l-.94 2.06-2.06.94zm10 10l.94 2.06.94-2.06 2.06-.94-2.06-.94-.94-2.06-.94 2.06-2.06.94z\"/><path d=\"M17.41 7.96l-1.37-1.37c-.4-.4-.92-.59-1.43-.59-.52 0-1.04.2-1.43.59L10.3 9.45l-7.72 7.72c-.78.78-.78 2.05 0 2.83L4 21.41c.39.39.9.59 1.41.59.51 0 1.02-.2 1.41-.59l7.78-7.78 2.81-2.81c.8-.78.8-2.07 0-2.86zM5.41 20L4 18.59l7.72-7.72 1.47 1.35L5.41 20z\"/>\n",
              "  </svg>\n",
              "      </button>\n",
              "      \n",
              "  <style>\n",
              "    .colab-df-container {\n",
              "      display:flex;\n",
              "      flex-wrap:wrap;\n",
              "      gap: 12px;\n",
              "    }\n",
              "\n",
              "    .colab-df-convert {\n",
              "      background-color: #E8F0FE;\n",
              "      border: none;\n",
              "      border-radius: 50%;\n",
              "      cursor: pointer;\n",
              "      display: none;\n",
              "      fill: #1967D2;\n",
              "      height: 32px;\n",
              "      padding: 0 0 0 0;\n",
              "      width: 32px;\n",
              "    }\n",
              "\n",
              "    .colab-df-convert:hover {\n",
              "      background-color: #E2EBFA;\n",
              "      box-shadow: 0px 1px 2px rgba(60, 64, 67, 0.3), 0px 1px 3px 1px rgba(60, 64, 67, 0.15);\n",
              "      fill: #174EA6;\n",
              "    }\n",
              "\n",
              "    [theme=dark] .colab-df-convert {\n",
              "      background-color: #3B4455;\n",
              "      fill: #D2E3FC;\n",
              "    }\n",
              "\n",
              "    [theme=dark] .colab-df-convert:hover {\n",
              "      background-color: #434B5C;\n",
              "      box-shadow: 0px 1px 3px 1px rgba(0, 0, 0, 0.15);\n",
              "      filter: drop-shadow(0px 1px 2px rgba(0, 0, 0, 0.3));\n",
              "      fill: #FFFFFF;\n",
              "    }\n",
              "  </style>\n",
              "\n",
              "      <script>\n",
              "        const buttonEl =\n",
              "          document.querySelector('#df-d439390b-ac58-4d28-bd84-10ee9026f014 button.colab-df-convert');\n",
              "        buttonEl.style.display =\n",
              "          google.colab.kernel.accessAllowed ? 'block' : 'none';\n",
              "\n",
              "        async function convertToInteractive(key) {\n",
              "          const element = document.querySelector('#df-d439390b-ac58-4d28-bd84-10ee9026f014');\n",
              "          const dataTable =\n",
              "            await google.colab.kernel.invokeFunction('convertToInteractive',\n",
              "                                                     [key], {});\n",
              "          if (!dataTable) return;\n",
              "\n",
              "          const docLinkHtml = 'Like what you see? Visit the ' +\n",
              "            '<a target=\"_blank\" href=https://colab.research.google.com/notebooks/data_table.ipynb>data table notebook</a>'\n",
              "            + ' to learn more about interactive tables.';\n",
              "          element.innerHTML = '';\n",
              "          dataTable['output_type'] = 'display_data';\n",
              "          await google.colab.output.renderOutput(dataTable, element);\n",
              "          const docLink = document.createElement('div');\n",
              "          docLink.innerHTML = docLinkHtml;\n",
              "          element.appendChild(docLink);\n",
              "        }\n",
              "      </script>\n",
              "    </div>\n",
              "  </div>\n",
              "  "
            ]
          },
          "metadata": {},
          "execution_count": 18
        }
      ]
    },
    {
      "cell_type": "code",
      "source": [
        "predictions = model.transform(assembled_train_data)\n",
        "predictions.select(\"Cover_Type\", \"prediction\", \"probability\").\\\n",
        "show(10, truncate = False)"
      ],
      "metadata": {
        "colab": {
          "base_uri": "https://localhost:8080/"
        },
        "id": "57TFdn0eMFda",
        "outputId": "3177d6d3-478d-469b-a63e-2f3a87ea17fd"
      },
      "execution_count": 19,
      "outputs": [
        {
          "output_type": "stream",
          "name": "stdout",
          "text": [
            "+----------+----------+-------------------------------------------------------------------------------------------------+\n",
            "|Cover_Type|prediction|probability                                                                                      |\n",
            "+----------+----------+-------------------------------------------------------------------------------------------------+\n",
            "|3.0       |3.0       |[0.0,0.0,0.031977254378883074,0.6350521253817263,0.05075643230720629,0.0,0.28221418793218433,0.0]|\n",
            "|3.0       |3.0       |[0.0,0.0,0.031977254378883074,0.6350521253817263,0.05075643230720629,0.0,0.28221418793218433,0.0]|\n",
            "|3.0       |3.0       |[0.0,0.0,0.031977254378883074,0.6350521253817263,0.05075643230720629,0.0,0.28221418793218433,0.0]|\n",
            "|6.0       |3.0       |[0.0,0.0,0.031977254378883074,0.6350521253817263,0.05075643230720629,0.0,0.28221418793218433,0.0]|\n",
            "|3.0       |3.0       |[0.0,0.0,0.031977254378883074,0.6350521253817263,0.05075643230720629,0.0,0.28221418793218433,0.0]|\n",
            "|3.0       |3.0       |[0.0,0.0,0.031977254378883074,0.6350521253817263,0.05075643230720629,0.0,0.28221418793218433,0.0]|\n",
            "|3.0       |3.0       |[0.0,0.0,0.031977254378883074,0.6350521253817263,0.05075643230720629,0.0,0.28221418793218433,0.0]|\n",
            "|6.0       |3.0       |[0.0,0.0,0.031977254378883074,0.6350521253817263,0.05075643230720629,0.0,0.28221418793218433,0.0]|\n",
            "|6.0       |3.0       |[0.0,0.0,0.031977254378883074,0.6350521253817263,0.05075643230720629,0.0,0.28221418793218433,0.0]|\n",
            "|6.0       |3.0       |[0.0,0.0,0.031977254378883074,0.6350521253817263,0.05075643230720629,0.0,0.28221418793218433,0.0]|\n",
            "+----------+----------+-------------------------------------------------------------------------------------------------+\n",
            "only showing top 10 rows\n",
            "\n"
          ]
        }
      ]
    },
    {
      "cell_type": "code",
      "source": [
        "from pyspark.ml.evaluation import MulticlassClassificationEvaluator\n",
        "evaluator = MulticlassClassificationEvaluator(labelCol=\"Cover_Type\",predictionCol=\"prediction\")\n",
        "evaluator.setMetricName(\"accuracy\").evaluate(predictions)\n",
        "evaluator.setMetricName(\"f1\").evaluate(predictions)"
      ],
      "metadata": {
        "colab": {
          "base_uri": "https://localhost:8080/"
        },
        "id": "JdTpStynMFgN",
        "outputId": "293900f4-f00a-4469-a17c-41a89c7693d4"
      },
      "execution_count": 20,
      "outputs": [
        {
          "output_type": "execute_result",
          "data": {
            "text/plain": [
              "0.6834637720535749"
            ]
          },
          "metadata": {},
          "execution_count": 20
        }
      ]
    },
    {
      "cell_type": "code",
      "source": [
        "confusion_matrix = predictions.groupBy(\"Cover_Type\").\\\n",
        "pivot(\"prediction\", range(1,8)).count().\\\n",
        "na.fill(0.0).\\\n",
        "orderBy(\"Cover_Type\")\n",
        "\n",
        "confusion_matrix.show()\n"
      ],
      "metadata": {
        "colab": {
          "base_uri": "https://localhost:8080/"
        },
        "id": "FhePcY9sMFi4",
        "outputId": "6a5613a2-69d5-48a3-ef15-5ef568910282"
      },
      "execution_count": 21,
      "outputs": [
        {
          "output_type": "stream",
          "name": "stdout",
          "text": [
            "+----------+------+------+-----+---+---+---+----+\n",
            "|Cover_Type|     1|     2|    3|  4|  5|  6|   7|\n",
            "+----------+------+------+-----+---+---+---+----+\n",
            "|       1.0|135728| 51439|  150|  0|  0|  0|3344|\n",
            "|       2.0| 54424|195832| 4256| 94| 58|  0| 553|\n",
            "|       3.0|     0|  5974|25641|652|  0|  0|   0|\n",
            "|       4.0|     0|    24| 1446|977|  0|  0|   0|\n",
            "|       5.0|     6|  7678|  724|  0| 93|  0|   0|\n",
            "|       6.0|     0|  6279| 8767|527|  0|  0|   0|\n",
            "|       7.0| 10051|    18|   58|  0|  0|  0|8343|\n",
            "+----------+------+------+-----+---+---+---+----+\n",
            "\n"
          ]
        }
      ]
    },
    {
      "cell_type": "code",
      "source": [],
      "metadata": {
        "id": "PfFjxWTqMFlg"
      },
      "execution_count": null,
      "outputs": []
    },
    {
      "cell_type": "code",
      "source": [],
      "metadata": {
        "id": "jBpql2CnMFoU"
      },
      "execution_count": null,
      "outputs": []
    },
    {
      "cell_type": "code",
      "source": [],
      "metadata": {
        "id": "m38Xo9WaMFrD"
      },
      "execution_count": null,
      "outputs": []
    },
    {
      "cell_type": "code",
      "source": [],
      "metadata": {
        "id": "0rzh8vNJMFtu"
      },
      "execution_count": null,
      "outputs": []
    },
    {
      "cell_type": "code",
      "source": [],
      "metadata": {
        "id": "RW7B45sOMFwY"
      },
      "execution_count": null,
      "outputs": []
    },
    {
      "cell_type": "code",
      "source": [],
      "metadata": {
        "id": "NgKgK48IMFzG"
      },
      "execution_count": null,
      "outputs": []
    },
    {
      "cell_type": "code",
      "source": [],
      "metadata": {
        "id": "Ro3S4lp5MF1l"
      },
      "execution_count": null,
      "outputs": []
    },
    {
      "cell_type": "code",
      "source": [],
      "metadata": {
        "id": "p1SG5J14MF4K"
      },
      "execution_count": null,
      "outputs": []
    },
    {
      "cell_type": "code",
      "source": [],
      "metadata": {
        "id": "KY9XjXPWMF62"
      },
      "execution_count": null,
      "outputs": []
    },
    {
      "cell_type": "code",
      "source": [],
      "metadata": {
        "id": "XRucP4gNMF9T"
      },
      "execution_count": null,
      "outputs": []
    },
    {
      "cell_type": "code",
      "source": [],
      "metadata": {
        "id": "35WVQMtPMGAa"
      },
      "execution_count": null,
      "outputs": []
    },
    {
      "cell_type": "code",
      "source": [],
      "metadata": {
        "id": "2U-1us3jMGC2"
      },
      "execution_count": null,
      "outputs": []
    },
    {
      "cell_type": "code",
      "source": [],
      "metadata": {
        "id": "zxQzD5TLMGFt"
      },
      "execution_count": null,
      "outputs": []
    },
    {
      "cell_type": "code",
      "source": [],
      "metadata": {
        "id": "NYX7ljGuMGIE"
      },
      "execution_count": null,
      "outputs": []
    },
    {
      "cell_type": "code",
      "source": [],
      "metadata": {
        "id": "dJWq3dJIMGKs"
      },
      "execution_count": null,
      "outputs": []
    },
    {
      "cell_type": "code",
      "source": [],
      "metadata": {
        "id": "WLnhLDcoMGNR"
      },
      "execution_count": null,
      "outputs": []
    },
    {
      "cell_type": "code",
      "source": [],
      "metadata": {
        "id": "tWtcnip0MGP4"
      },
      "execution_count": null,
      "outputs": []
    }
  ]
}